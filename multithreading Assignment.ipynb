{
 "cells": [
  {
   "cell_type": "markdown",
   "id": "ea8d7aac-b545-42c9-9806-a0b7ea1df35d",
   "metadata": {},
   "source": [
    "Q1. What is multithreading in python? Why is it used? Name the module used to handle threads in python.\n",
    "\n",
    "ANS- \n",
    "Multithreading in Python refers to the concurrent execution of multiple threads within a single process. Each thread represents a separate flow of control, allowing different parts of the program to execute independently and simultaneously. These threads share the same memory space and resources of the parent process, which means they can communicate and cooperate with each other.\n",
    "\n",
    "It is used because it makes programs more efficent and responsive \n",
    "\n",
    "threading module is used to handle threads in python"
   ]
  },
  {
   "cell_type": "markdown",
   "id": "f839ac1f-0fb1-48dd-89b1-418c91c45eb0",
   "metadata": {},
   "source": [
    "Q2. Why threading module used? Write the use of the following functions\u001d",
    "\n",
    "1. activeCount()\n",
    "2. currentThread()\n",
    "3. enumerate()\n",
    "\n",
    "ANS - the threading module is used to facilitate multi-threading and concurrent execution in Python. It simplifies the process of working with threads and provides tools for managing shared resources and handling synchronization, making it an essential tool for parallel programming and resource-efficient development.\n",
    "\n",
    "\n",
    "activeCount()\n",
    "\n",
    "Use: The activeCount() function is used to determine the number of Thread objects currently alive in the program. It returns the count of active threads that are still running.\n",
    "\n",
    "\n",
    "currentThread()\n",
    "\n",
    "Use: The currentThread() function returns the Thread object corresponding to the current thread. It's useful for obtaining information about the thread currently executing the code, such as its name or other attributes.\n",
    "\n",
    "\n",
    "enumerate()\n",
    "\n",
    "Use: The enumerate() function returns a list of all Thread objects currently alive. It's useful for inspecting the active threads and can be used to gather information about each thread."
   ]
  },
  {
   "cell_type": "markdown",
   "id": "850e5cb7-42d7-4f2b-991c-f31cec61d5ea",
   "metadata": {},
   "source": [
    "Q3. Explain the following functions\n",
    "1.  run()\n",
    "2.  start()\n",
    "3. join()\n",
    "4. isAlive()\n",
    "\n",
    "run()\n",
    "\n",
    "Use: The run() method is not typically called directly by the programmer. Instead, it is meant to be overridden in a subclass of the Thread class. When you create a custom thread class by subclassing Thread, you can override the run() method to define the code that the thread should execute when it is started with the start() method. The run() method encapsulates the functionality of the thread.\n",
    "\n",
    "start()\n",
    "\n",
    "Use: The start() method is used to initiate the execution of a thread. It launches a new thread that executes the code specified in the run() method. Calling start() is essential to create a new thread and begin its execution.\n",
    "\n",
    "join()\n",
    "\n",
    "Use: The join() method is used to wait for a thread to complete its execution. When you call join() on a thread, the program will pause until the specified thread has finished. This is useful for ensuring that all threads ha\n",
    "ve completed their tasks before proceeding.\n",
    "\n",
    "\n",
    "isAlive()\n",
    "\n",
    "Use: The isAlive() method is used to check whether a thread is currently running or has completed its execution. It returns True if the thread is still active (running or has not yet started) and False if the thread has finished.\n"
   ]
  },
  {
   "cell_type": "markdown",
   "id": "33255eb1-89b6-4f4c-8b47-b763d9a70567",
   "metadata": {},
   "source": [
    "Q4 \n",
    "Write a python program to create two threads. Thread one must print the list of squares and thread\n",
    "two must print the list of cubes."
   ]
  },
  {
   "cell_type": "code",
   "execution_count": 32,
   "id": "aea03de4-1eed-4c15-90c0-ef66991ad421",
   "metadata": {},
   "outputs": [],
   "source": [
    "import threading\n"
   ]
  },
  {
   "cell_type": "code",
   "execution_count": 33,
   "id": "c67f7f96-57e9-4b12-b8ed-735a8e4f58d9",
   "metadata": {},
   "outputs": [],
   "source": [
    "def print_square():\n",
    "    for i in range(1, 6):\n",
    "        print(f\"square of {i} is {i ** 2}\")\n",
    "        \n",
    "def print_cubes():\n",
    "    for i in range(1, 6):\n",
    "        print(f\"cube of {i} is {i **3}\")"
   ]
  },
  {
   "cell_type": "code",
   "execution_count": 34,
   "id": "ea639ea8-4db4-407e-8d7c-8dfa6d5b9443",
   "metadata": {},
   "outputs": [],
   "source": [
    "thread1 = threading.Thread(target=print_square )\n",
    "thread2 = threading.Thread(target=print_cubes )\n",
    "                           "
   ]
  },
  {
   "cell_type": "code",
   "execution_count": 35,
   "id": "9187e7d3-199a-41ec-bae9-05d36be724e3",
   "metadata": {},
   "outputs": [
    {
     "name": "stdout",
     "output_type": "stream",
     "text": [
      "square of 1 is 1\n",
      "square of 2 is 4\n",
      "square of 3 is 9\n",
      "square of 4 is 16\n",
      "square of 5 is 25\n",
      "cube of 1 is 1\n",
      "cube of 2 is 8\n",
      "cube of 3 is 27\n",
      "cube of 4 is 64\n",
      "cube of 5 is 125\n"
     ]
    }
   ],
   "source": [
    "thread1.start()\n",
    "thread2.start()\n",
    "\n",
    "thread1.join()\n",
    "thread2.join()\n"
   ]
  },
  {
   "cell_type": "markdown",
   "id": "fdb46aa8-eb68-4737-bf62-681449b216ca",
   "metadata": {},
   "source": [
    "Q5. State advantages and disadvantages of multithreading.\n",
    "\n",
    "Ans -\n",
    "\n",
    "- Advantages of Multithreading:\n",
    "\n",
    "Improved Performance: Multithreading can take advantage of multiple CPU cores, improving program performance.\n",
    "\n",
    "Responsive UI: It keeps user interfaces responsive during time-consuming operations.\n",
    "\n",
    "Efficient Resource Utilization: Threads share resources, reducing overhead compared to processes.\n",
    "\n",
    "Concurrency: Multithreading allows concurrent execution of tasks, useful for many applications.\n",
    "\n",
    "Synchronization: Provides mechanisms to control access to shared resources.\n",
    "\n",
    "- Disadvantages of Multithreading:\n",
    "\n",
    "Complexity: Multithreaded code is more complex and can be error-prone.\n",
    "\n",
    "Race Conditions: Poorly synchronized threads can lead to data corruption.\n",
    "\n",
    "Deadlocks: Threads may get stuck, leading to system freezes.\n",
    "\n",
    "Debugging Challenges: Identifying and fixing multithreading issues can be difficult.\n",
    "\n",
    "Resource Consumption: Each thread consumes resources, potentially leading to contention.\n",
    "\n",
    "Portability: Multithreading behavior may vary across platforms."
   ]
  },
  {
   "cell_type": "markdown",
   "id": "193c0f3e-3feb-45f5-9017-36ead5db41c0",
   "metadata": {},
   "source": [
    "Q6. Explain deadlocks and race conditions\n",
    "\n",
    "ans -\n",
    "- Deadlocks:\n",
    "\n",
    "Definition: A deadlock occurs when two or more threads are unable to proceed because each is waiting for the other to release a resource. Essentially, it's a situation where threads are stuck, unable to make progress.\n",
    "\n",
    "Causes: Deadlocks typically occur when multiple threads compete for exclusive access to resources (e.g., locks) and the order of acquisition is not properly managed.\n",
    "\n",
    "Example: Consider two threads, A and B, both need access to two resources, X and Y. Thread A locks resource X, and thread B locks resource Y. If A now attempts to lock Y while B simultaneously attempts to lock X, a deadlock can occur. Both threads are waiting for a resource held by the other, resulting in a standstill.\n",
    "\n",
    "Prevention and Resolution: To prevent deadlocks, one can use strategies like resource ordering, timeout mechanisms, or deadlock detection algorithms. Deadlocks can also be resolved by forcefully terminating one of the threads, but this should be used with caution.\n",
    "\n",
    "\n",
    "- Race Conditions:\n",
    "\n",
    "Definition: A race condition occurs when multiple threads access shared data simultaneously, leading to unpredictable and erroneous results. These conditions can happen when threads do not properly synchronize their access to shared resources.\n",
    "\n",
    "Causes: Race conditions are often the result of unsynchronized access to shared variables, data structures, or resources. When threads read and modify shared data concurrently without proper synchronization, the outcome is unpredictable.\n",
    "\n",
    "Example: Suppose two threads are incrementing a shared variable count. If both threads read the current value of count, increment it, and write the result back without proper synchronization, they can interfere with each other, causing the count to be incremented incorrectly.\n",
    "\n",
    "Prevention and Resolution: To prevent race conditions, you can use synchronization mechanisms like locks, semaphores, or mutexes to ensure that only one thread can access a shared resource at a time. Proper synchronization helps in maintaining data consistency and preventing race conditions.\n"
   ]
  },
  {
   "cell_type": "code",
   "execution_count": null,
   "id": "3d0ef0cb-22a8-4a94-ad41-34be81819fa0",
   "metadata": {},
   "outputs": [],
   "source": []
  }
 ],
 "metadata": {
  "kernelspec": {
   "display_name": "Python 3 (ipykernel)",
   "language": "python",
   "name": "python3"
  },
  "language_info": {
   "codemirror_mode": {
    "name": "ipython",
    "version": 3
   },
   "file_extension": ".py",
   "mimetype": "text/x-python",
   "name": "python",
   "nbconvert_exporter": "python",
   "pygments_lexer": "ipython3",
   "version": "3.10.8"
  }
 },
 "nbformat": 4,
 "nbformat_minor": 5
}
